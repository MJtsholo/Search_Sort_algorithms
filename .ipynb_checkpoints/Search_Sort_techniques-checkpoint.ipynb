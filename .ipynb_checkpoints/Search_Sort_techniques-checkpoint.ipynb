{
 "cells": [
  {
   "cell_type": "markdown",
   "metadata": {},
   "source": [
    "# Search and Sort techniques"
   ]
  },
  {
   "cell_type": "markdown",
   "metadata": {},
   "source": [
    "#### Searching refers to looking for a specific data point, i.e a number in a data structure.  Sorting refers to arranging data in particular order or format.\n",
    "#### Sorting algorithm specifies the way to arrange data in a numerical or alphabetical order. Search and sort techniques differ in efficiency, so it is important to know how they work."
   ]
  },
  {
   "cell_type": "code",
   "execution_count": 1,
   "metadata": {},
   "outputs": [],
   "source": [
    "import numpy as np\n",
    "import pandas as pd\n",
    "from numpy.random import *\n",
    "import time"
   ]
  },
  {
   "cell_type": "markdown",
   "metadata": {},
   "source": [
    "### Use the following list to perform a binary search:"
   ]
  },
  {
   "cell_type": "code",
   "execution_count": 2,
   "metadata": {},
   "outputs": [
    {
     "name": "stdout",
     "output_type": "stream",
     "text": [
      "['babka', 'baklava', 'cheesecake', 'cupcake', 'danish', 'eclair', 'funnelcake', 'kringle', 'lamington', 'profiterol', 'sopaipilla', 'strudel', 'tiramisu', 'torte', 'turnover']\n"
     ]
    }
   ],
   "source": [
    "sorted_list = ['babka', 'baklava', 'cheesecake', 'cupcake', 'danish', 'eclair', 'funnelcake', 'kringle', 'lamington', 'profiterol', 'sopaipilla', 'strudel', 'tiramisu', 'torte', 'turnover']\n",
    "print(sorted_list)"
   ]
  },
  {
   "cell_type": "code",
   "execution_count": 3,
   "metadata": {},
   "outputs": [],
   "source": [
    "def binarySearch(sorted_list, target):\n",
    "    start = 0\n",
    "    end = len(sorted_list) - 1\n",
    "    \n",
    "    while start <= end:\n",
    "        midval = (start + end) // 2\n",
    "        midpoint = sorted_list[midval]\n",
    "        \n",
    "        if midpoint == target:\n",
    "            return midval\n",
    "        \n",
    "        if midpoint < target:\n",
    "            start = midval + 1\n",
    "        else:\n",
    "            end = midval - 1\n",
    "            \n",
    "    if start > end:\n",
    "        return \"Not in list\""
   ]
  },
  {
   "cell_type": "markdown",
   "metadata": {},
   "source": [
    "### What sequence of 'middle' values are compared to the target when performing a binary search with target doughnut?"
   ]
  },
  {
   "cell_type": "code",
   "execution_count": 4,
   "metadata": {},
   "outputs": [
    {
     "data": {
      "text/plain": [
       "'Not in list'"
      ]
     },
     "execution_count": 4,
     "metadata": {},
     "output_type": "execute_result"
    }
   ],
   "source": [
    "binarySearch(sorted_list, 'doughnut')"
   ]
  },
  {
   "cell_type": "markdown",
   "metadata": {},
   "source": [
    "#### Sequence\n",
    "\"Kringle\" -> \"cupcake\"\n",
    "\n",
    "\"cupcake\" -> \"eclair\"\n",
    "\n",
    "\"eclair\" -> \"danish\""
   ]
  },
  {
   "cell_type": "markdown",
   "metadata": {},
   "source": [
    "### What sequence of 'middle' values are compared to the target when performing a binary search with target tiramisu?"
   ]
  },
  {
   "cell_type": "code",
   "execution_count": 5,
   "metadata": {},
   "outputs": [
    {
     "data": {
      "text/plain": [
       "12"
      ]
     },
     "execution_count": 5,
     "metadata": {},
     "output_type": "execute_result"
    }
   ],
   "source": [
    "binarySearch(sorted_list, 'tiramisu')"
   ]
  },
  {
   "cell_type": "markdown",
   "metadata": {},
   "source": [
    "#### Sequence\n",
    "\"kringle\" -> \"strudel\"\n",
    "\n",
    "\"strudel\" -> \"torte\"\n",
    "\n",
    "\"torte\" -> \"tiramisu\""
   ]
  },
  {
   "cell_type": "markdown",
   "metadata": {},
   "source": [
    "### Show the series of steps taken by the Bubble Sort algorithm while sorting this list. "
   ]
  },
  {
   "cell_type": "code",
   "execution_count": 6,
   "metadata": {},
   "outputs": [
    {
     "name": "stdout",
     "output_type": "stream",
     "text": [
      "Sorted array :\n",
      "6 8 9 10 11 14 20 60 "
     ]
    }
   ],
   "source": [
    "unsorted = [9, 20, 6, 10, 14, 8, 60, 11]\n",
    "\n",
    "def bubblesort(unsorted):\n",
    "    unsorted_len = len(unsorted)\n",
    "    for num in range(unsorted_len - 1, 0, -1):\n",
    "        for i in range(num):\n",
    "            if unsorted[i] > unsorted[i+1]:\n",
    "                unsorted[i], unsorted[i+1] = unsorted[i+1], unsorted[i]\n",
    "                \n",
    "bubblesort(unsorted) \n",
    "print (\"Sorted array :\") \n",
    "for i in range(len(unsorted)): \n",
    "    print (\"%d\" %unsorted[i],end=\" \") "
   ]
  },
  {
   "cell_type": "markdown",
   "metadata": {},
   "source": [
    "#### Series of step for bubble sort\n",
    " [9, 20, 6, 10, 14, 8, 60, 11]     The first two numbers are already in place so no sorting is done.\n",
    " \n",
    " [9, 6, 20, 10, 14, 8, 60, 11]\n",
    " \n",
    " [9, 6, 10, 20, 14, 8, 60, 11]\n",
    " \n",
    " [9, 6, 10, 14, 20, 8, 60, 11]\n",
    " \n",
    " [9, 6, 10, 14, 8, 20, 60, 11]     20 and 60 are already in place, no sorting takes place.\n",
    " \n",
    " [9, 6, 10, 14, 8, 20, 11, 60]     The sorting continues with the next number which is 60, sorting 11 before it moves to the start of the list.\n",
    " \n",
    " [6, 9, 10, 14, 8, 20, 11, 60]     It went through the whole list, then it starts again iterating through the list sorting 9 and 6.\n",
    " \n",
    " [6, 9, 10, 8, 14, 20, 11, 60]     9 and 10 are in place no sorting.\n",
    " \n",
    " [6, 9, 8, 10, 14, 20, 11, 60]     sorts 10 and 8\n",
    " \n",
    " [6, 9, 8, 10, 14, 20, 11, 60]     10 and 14 are in place, 14 and 20 are in place\n",
    " \n",
    " [6, 9, 8, 10, 14, 11, 20, 60]     sorts 20 and 11. then done with the list\n",
    " \n",
    " [6, 8, 9, 10, 14, 11, 20, 60]     starts sorting again starts from the beginning, sorts 9 and 8\n",
    " \n",
    " [6, 8, 9, 10, 11, 14, 20, 60]     then sorts 14 and 11\n",
    " \n",
    " [6, 8, 9, 10, 14, 11, 20, 60]     does the last sort to make sure everything is sorted."
   ]
  },
  {
   "cell_type": "markdown",
   "metadata": {},
   "source": [
    "### Show the series of steps taken by the Selection Sort algorithm while sorting this list."
   ]
  },
  {
   "cell_type": "code",
   "execution_count": 7,
   "metadata": {},
   "outputs": [
    {
     "name": "stdout",
     "output_type": "stream",
     "text": [
      "[6, 8, 9, 10, 11, 14, 20, 60]\n"
     ]
    }
   ],
   "source": [
    "unsorted = [9, 20, 6, 10, 14, 8, 60, 11]\n",
    "\n",
    "def selectsort(list):\n",
    "    for i in range(len(unsorted)):\n",
    "        min_i = i\n",
    "        for j in range(i + 1, len(unsorted)):\n",
    "            if unsorted[min_i] > unsorted[j]:\n",
    "                min_i = j\n",
    "                \n",
    "        unsorted[i], unsorted[min_i] = unsorted[min_i], unsorted[i]\n",
    "        \n",
    "    return unsorted\n",
    "print(selectsort(unsorted))"
   ]
  },
  {
   "cell_type": "markdown",
   "metadata": {},
   "source": [
    "#### Series of steps for selection sort\n",
    "[9, 20, 6, 10, 14, 8, 60, 11] sort goes through the whole list looks for smallest number and pushes it through to the front and swaps it with the number at the start. it kind of swaps around the indexes until the whole list is sorted(in ascending order).\n",
    "\n",
    "[6, 20, 9, 10, 14, 8, 60, 11] 6 is the smallest, it is switched with 9.\n",
    "\n",
    "[6, 8, 9, 10, 14, 20, 60, 11] then 8 is swapped with 20.\n",
    "\n",
    "[6, 8, 9, 10, 11, 20, 60, 14] 11 is swapped with 14\n",
    "\n",
    "[6, 8, 9, 10, 11, 14, 60, 20] 14 is swapped with 20\n",
    "\n",
    "[6, 8, 9, 10, 11, 14, 20, 60] 20 is swapped with 60"
   ]
  },
  {
   "cell_type": "markdown",
   "metadata": {},
   "source": [
    "### The three search algorithms have varying run times, with the unsorted sequential search being the least efficient and the binary search being the most efficient (among the three).\n",
    "\n",
    "### Modify the code for the seq_search.py (for unsorted lists), seq_search_ordered.py and binary_search.py to count the number of elements checked during the search. "
   ]
  },
  {
   "cell_type": "code",
   "execution_count": 8,
   "metadata": {},
   "outputs": [
    {
     "name": "stdout",
     "output_type": "stream",
     "text": [
      "Elements counted 1\n",
      "Elements counted 2\n",
      "Elements counted 3\n",
      "Elements counted 4\n",
      "False\n",
      "Elements counted 1\n",
      "Elements counted 2\n",
      "Elements counted 3\n",
      "Elements counted 4\n",
      "Elements counted 4\n",
      "True\n"
     ]
    }
   ],
   "source": [
    "def ord_seq_search(alist, item):\n",
    "    pos = 0\n",
    "    found = False\n",
    "    stop = False\n",
    "    count = 0\n",
    "\n",
    "    while pos < len(alist) and not found and not stop:\n",
    "        if alist[pos] == item:\n",
    "            found = True\n",
    "        else:\n",
    "            if alist[pos] > item:\n",
    "                stop = True\n",
    "            else:\n",
    "                pos = pos+1\n",
    "            count += 1\n",
    "        print(\"Elements counted\", count)\n",
    "\n",
    "    return found\n",
    "\n",
    "testlist = [0, 1, 2, 8, 13, 17, 19, 32, 42,]\n",
    "print(ord_seq_search(testlist, 3)) #return False\n",
    "print(ord_seq_search(testlist, 13)) #return True\n"
   ]
  },
  {
   "cell_type": "code",
   "execution_count": 9,
   "metadata": {},
   "outputs": [
    {
     "name": "stdout",
     "output_type": "stream",
     "text": [
      "5\n",
      "Elements counted 3\n",
      "Not in list\n"
     ]
    }
   ],
   "source": [
    "def bsearch(list, val):\n",
    "    count = 0\n",
    "    list_size = len(list) - 1\n",
    "    idx0 = 0\n",
    "    idxn = list_size\n",
    "\n",
    "    while idx0 <= idxn:\n",
    "        midval = (idx0 + idxn)// 2\n",
    "\n",
    "        if list[midval] == val:\n",
    "            return midval\n",
    "\n",
    "        if val > list[midval]:\n",
    "            idx0 = midval + 1\n",
    "        else:\n",
    "            idxn = midval - 1\n",
    "        count += 1\n",
    "    print('Elements counted', count)\n",
    "\n",
    "    if idx0 > idxn:\n",
    "        return \"Not in list\"\n",
    "\n",
    "list = [2,7,19,34,53,72]\n",
    "\n",
    "print(bsearch(list,72)) #should return index 5\n",
    "print(bsearch(list,11)) #should return Not in list"
   ]
  },
  {
   "cell_type": "code",
   "execution_count": 10,
   "metadata": {},
   "outputs": [
    {
     "name": "stdout",
     "output_type": "stream",
     "text": [
      "Elements counted 4\n",
      "True\n",
      "Elements counted 7\n",
      "False\n"
     ]
    }
   ],
   "source": [
    "def linear_search(values, search_for):\n",
    "    search_at = 0\n",
    "    search_res = False\n",
    "    count = 0\n",
    "\n",
    "# Match the value with each data element\n",
    "    while search_at < len(values) and search_res is False:\n",
    "        if values[search_at] == search_for:\n",
    "            search_res = True\n",
    "        else:\n",
    "            search_at = search_at + 1\n",
    "        count += 1\n",
    "    print(\"Elements counted\", count)\n",
    "\n",
    "    return search_res\n",
    "\n",
    "list = [64, 34, 25, 12, 22, 11, 90]\n",
    "print(linear_search(list, 12)) #should return True\n",
    "print(linear_search(list, 91)) #should return False\n"
   ]
  },
  {
   "cell_type": "markdown",
   "metadata": {},
   "source": [
    "### Using your instrumented code for the three search algorithms, perform the following searches, and report the number of elements checked by each algorithm for each search (i.e. you will report nine results in total - for each of the 3 searches below, you will report the results from the 3 different search algorithms)."
   ]
  },
  {
   "cell_type": "markdown",
   "metadata": {},
   "source": [
    "### 1. Search for the value 9 in the following array:\n",
    "    A = [6, 19, -3, 5, 12, 7, 21, -8, 25, 10, 0, 28, -6, 1, 33, 18, 9, 2, -13, 43]\n",
    "\n",
    "\n",
    "\n",
    "\n",
    "### 2. Search for the value 11 in the following array:\n",
    "    A = [6, 19, -3, 5, 12, 7, 21, -8, 25, 10, 0, 28, -6, 1, 33, 18, 9, 2, -13, 43]\n",
    "\n",
    "\n",
    "\n",
    "### 3. Search for the value 11 in the following array:\n",
    "    A = [6, 19, -3, 5, 12, 7, 21, -8, 25, 10, 0, 28, -6, 1, 33, 18, 9, 2, -13, 43, -15, 4, 22, 38, -5, 13, 23, -11, 29, -20, 41, 31, -23, 35, 40, 14, 8, -18, 16, 36]\n"
   ]
  },
  {
   "cell_type": "markdown",
   "metadata": {},
   "source": [
    "## Searching in first list"
   ]
  },
  {
   "cell_type": "code",
   "execution_count": 11,
   "metadata": {},
   "outputs": [
    {
     "name": "stdout",
     "output_type": "stream",
     "text": [
      "Elements counted 1\n",
      "Elements counted 2\n",
      "False\n"
     ]
    }
   ],
   "source": [
    "testlist = [6, 19, -3, 5, 12, 7, 21, -8, 25, 10, 0, 28, -6, 1, 33, 18, 9, 2, -13, 43]\n",
    "\n",
    "def ord_seq_search(alist, item):\n",
    "    pos = 0\n",
    "    found = False\n",
    "    stop = False\n",
    "    count = 0\n",
    "\n",
    "    while pos < len(alist) and not found and not stop:\n",
    "        if alist[pos] == item:\n",
    "            found = True\n",
    "        else:\n",
    "            if alist[pos] > item:\n",
    "                stop = True\n",
    "            else:\n",
    "                pos = pos+1\n",
    "            count += 1\n",
    "        print(\"Elements counted\", count)\n",
    "\n",
    "    return found\n",
    "\n",
    "#testlist = [0, 1, 2, 8, 13, 17, 19, 32, 42,]\n",
    "print(ord_seq_search(testlist, 9)) #return False\n",
    "#print(ord_seq_search(testlist, 13)) #return True"
   ]
  },
  {
   "cell_type": "code",
   "execution_count": 12,
   "metadata": {},
   "outputs": [
    {
     "name": "stdout",
     "output_type": "stream",
     "text": [
      "Elements counted 4\n",
      "Not in list\n"
     ]
    }
   ],
   "source": [
    "list = [6, 19, -3, 5, 12, 7, 21, -8, 25, 10, 0, 28, -6, 1, 33, 18, 9, 2, -13, 43]\n",
    "\n",
    "def bsearch(list, val):\n",
    "    count = 0\n",
    "    list_size = len(list) - 1\n",
    "    idx0 = 0\n",
    "    idxn = list_size\n",
    "\n",
    "    while idx0 <= idxn:\n",
    "        midval = (idx0 + idxn)// 2\n",
    "\n",
    "        if list[midval] == val:\n",
    "            return midval\n",
    "\n",
    "        if val > list[midval]:\n",
    "            idx0 = midval + 1\n",
    "        else:\n",
    "            idxn = midval - 1\n",
    "        count += 1\n",
    "    print('Elements counted', count)\n",
    "\n",
    "    if idx0 > idxn:\n",
    "        return \"Not in list\"\n",
    "\n",
    "#list = [2,7,19,34,53,72]\n",
    "\n",
    "#print(bsearch(list,72)) #should return index 5\n",
    "print(bsearch(list,9)) #should return Not in list"
   ]
  },
  {
   "cell_type": "code",
   "execution_count": 13,
   "metadata": {},
   "outputs": [
    {
     "name": "stdout",
     "output_type": "stream",
     "text": [
      "Elements counted 17\n",
      "True\n"
     ]
    }
   ],
   "source": [
    "values = [6, 19, -3, 5, 12, 7, 21, -8, 25, 10, 0, 28, -6, 1, 33, 18, 9, 2, -13, 43]\n",
    "\n",
    "def linear_search(values, search_for):\n",
    "    search_at = 0\n",
    "    search_res = False\n",
    "    count = 0\n",
    "\n",
    "# Match the value with each data element\n",
    "    while search_at < len(values) and search_res is False:\n",
    "        if values[search_at] == search_for:\n",
    "            search_res = True\n",
    "        else:\n",
    "            search_at = search_at + 1\n",
    "        count += 1\n",
    "    print(\"Elements counted\", count)\n",
    "\n",
    "    return search_res\n",
    "\n",
    "#list = [64, 34, 25, 12, 22, 11, 90]\n",
    "print(linear_search(values, 9)) #should return True\n",
    "#print(linear_search(list, 91)) #should return False"
   ]
  },
  {
   "cell_type": "markdown",
   "metadata": {},
   "source": [
    "## Searching in second list"
   ]
  },
  {
   "cell_type": "code",
   "execution_count": 26,
   "metadata": {},
   "outputs": [
    {
     "name": "stdout",
     "output_type": "stream",
     "text": [
      "Elements counted 1\n",
      "Elements counted 2\n",
      "False\n"
     ]
    }
   ],
   "source": [
    "testlist = [6, 19, -3, 5, 12, 7, 21, -8, 25, 10, 0, 28, -6, 1, 33, 18, 9, 2, -13, 43]\n",
    "\n",
    "def ord_seq_search(alist, item):\n",
    "    pos = 0\n",
    "    found = False\n",
    "    stop = False\n",
    "    count = 0\n",
    "\n",
    "    while pos < len(alist) and not found and not stop:\n",
    "        if alist[pos] == item:\n",
    "            found = True\n",
    "        else:\n",
    "            if alist[pos] > item:\n",
    "                stop = True\n",
    "            else:\n",
    "                pos = pos+1\n",
    "            count += 1\n",
    "        print(\"Elements counted\", count)\n",
    "\n",
    "    return found\n",
    "print(ord_seq_search(testlist, 11)) "
   ]
  },
  {
   "cell_type": "code",
   "execution_count": 15,
   "metadata": {},
   "outputs": [
    {
     "name": "stdout",
     "output_type": "stream",
     "text": [
      "Elements counted 4\n",
      "Not in list\n"
     ]
    }
   ],
   "source": [
    "list = [6, 19, -3, 5, 12, 7, 21, -8, 25, 10, 0, 28, -6, 1, 33, 18, 9, 2, -13, 43]\n",
    "\n",
    "def bsearch(list, val):\n",
    "    count = 0\n",
    "    list_size = len(list) - 1\n",
    "    idx0 = 0\n",
    "    idxn = list_size\n",
    "\n",
    "    while idx0 <= idxn:\n",
    "        midval = (idx0 + idxn)// 2\n",
    "\n",
    "        if list[midval] == val:\n",
    "            return midval\n",
    "\n",
    "        if val > list[midval]:\n",
    "            idx0 = midval + 1\n",
    "        else:\n",
    "            idxn = midval - 1\n",
    "        count += 1\n",
    "    print('Elements counted', count)\n",
    "\n",
    "    if idx0 > idxn:\n",
    "        return \"Not in list\"\n",
    "\n",
    "\n",
    "print(bsearch(list,11)) "
   ]
  },
  {
   "cell_type": "code",
   "execution_count": 16,
   "metadata": {},
   "outputs": [
    {
     "name": "stdout",
     "output_type": "stream",
     "text": [
      "Elements counted 20\n",
      "False\n"
     ]
    }
   ],
   "source": [
    "values = [6, 19, -3, 5, 12, 7, 21, -8, 25, 10, 0, 28, -6, 1, 33, 18, 9, 2, -13, 43]\n",
    "\n",
    "def linear_search(values, search_for):\n",
    "    search_at = 0\n",
    "    search_res = False\n",
    "    count = 0\n",
    "\n",
    "    while search_at < len(values) and search_res is False:\n",
    "        if values[search_at] == search_for:\n",
    "            search_res = True\n",
    "        else:\n",
    "            search_at = search_at + 1\n",
    "        count += 1\n",
    "    print(\"Elements counted\", count)\n",
    "\n",
    "    return search_res\n",
    "\n",
    "print(linear_search(values, 11)) "
   ]
  },
  {
   "cell_type": "markdown",
   "metadata": {},
   "source": [
    "## Searching in third list"
   ]
  },
  {
   "cell_type": "code",
   "execution_count": 17,
   "metadata": {},
   "outputs": [
    {
     "name": "stdout",
     "output_type": "stream",
     "text": [
      "Elements counted 1\n",
      "Elements counted 2\n",
      "False\n"
     ]
    }
   ],
   "source": [
    "testlist = [6, 19, -3, 5, 12, 7, 21, -8, 25, 10, 0, 28, -6, 1, 33, 18, 9, 2, -13, 43, -15, 4, 22, 38, -5, 13, 23, -11, 29, -20, 41, 31, -23, 35, 40, 14, 8, -18, 16, 36]\n",
    "\n",
    "def ord_seq_search(alist, item):\n",
    "    pos = 0\n",
    "    found = False\n",
    "    stop = False\n",
    "    count = 0\n",
    "\n",
    "    while pos < len(alist) and not found and not stop:\n",
    "        if alist[pos] == item:\n",
    "            found = True\n",
    "        else:\n",
    "            if alist[pos] > item:\n",
    "                stop = True\n",
    "            else:\n",
    "                pos = pos+1\n",
    "            count += 1\n",
    "        print(\"Elements counted\", count)\n",
    "\n",
    "    return found\n",
    "\n",
    "print(ord_seq_search(testlist, 11)) "
   ]
  },
  {
   "cell_type": "code",
   "execution_count": 18,
   "metadata": {},
   "outputs": [
    {
     "name": "stdout",
     "output_type": "stream",
     "text": [
      "Elements counted 5\n",
      "Not in list\n"
     ]
    }
   ],
   "source": [
    "list = [6, 19, -3, 5, 12, 7, 21, -8, 25, 10, 0, 28, -6, 1, 33, 18, 9, 2, -13, 43, -15, 4, 22, 38, -5, 13, 23, -11, 29, -20, 41, 31, -23, 35, 40, 14, 8, -18, 16, 36]\n",
    "\n",
    "def bsearch(list, val):\n",
    "    count = 0\n",
    "    list_size = len(list) - 1\n",
    "    idx0 = 0\n",
    "    idxn = list_size\n",
    "\n",
    "    while idx0 <= idxn:\n",
    "        midval = (idx0 + idxn)// 2\n",
    "\n",
    "        if list[midval] == val:\n",
    "            return midval\n",
    "\n",
    "        if val > list[midval]:\n",
    "            idx0 = midval + 1\n",
    "        else:\n",
    "            idxn = midval - 1\n",
    "        count += 1\n",
    "    print('Elements counted', count)\n",
    "\n",
    "    if idx0 > idxn:\n",
    "        return \"Not in list\"\n",
    "\n",
    "print(bsearch(list,11))"
   ]
  },
  {
   "cell_type": "code",
   "execution_count": 19,
   "metadata": {},
   "outputs": [
    {
     "name": "stdout",
     "output_type": "stream",
     "text": [
      "Elements counted 40\n",
      "False\n"
     ]
    }
   ],
   "source": [
    "values = [6, 19, -3, 5, 12, 7, 21, -8, 25, 10, 0, 28, -6, 1, 33, 18, 9, 2, -13, 43, -15, 4, 22, 38, -5, 13, 23, -11, 29, -20, 41, 31, -23, 35, 40, 14, 8, -18, 16, 36]\n",
    "\n",
    "def linear_search(values, search_for):\n",
    "    search_at = 0\n",
    "    search_res = False\n",
    "    count = 0\n",
    "\n",
    "    while search_at < len(values) and search_res is False:\n",
    "        if values[search_at] == search_for:\n",
    "            search_res = True\n",
    "        else:\n",
    "            search_at = search_at + 1\n",
    "        count += 1\n",
    "    print(\"Elements counted\", count)\n",
    "\n",
    "    return search_res\n",
    "\n",
    "print(linear_search(values, 11)) "
   ]
  },
  {
   "cell_type": "markdown",
   "metadata": {},
   "source": [
    "### Using a random number generator, create a list of 50 integers and a list of 1000 integers. Perform a benchmark analysis using merge sort, quick sort, bubble sort and selection sort (algorithm are given) on each of the lists. For each list, what is the difference in execution speed between the different sorting techniques?"
   ]
  },
  {
   "cell_type": "code",
   "execution_count": 20,
   "metadata": {},
   "outputs": [],
   "source": [
    "import random\n",
    "random_50 = random.sample(range(100), 50)\n",
    "random_1000 = random.sample(range(1500), 1000)"
   ]
  },
  {
   "cell_type": "code",
   "execution_count": 21,
   "metadata": {},
   "outputs": [],
   "source": [
    "def partition(arr,low,high): \n",
    "    i = ( low-1 )         # index of smaller element \n",
    "    pivot = arr[high]     # pivot \n",
    "  \n",
    "    for j in range(low , high): \n",
    "        if   arr[j] <= pivot: \n",
    "            i = i+1 \n",
    "            arr[i],arr[j] = arr[j],arr[i] \n",
    "  \n",
    "    arr[i+1],arr[high] = arr[high],arr[i+1] \n",
    "    return ( i+1 ) \n",
    "\n",
    "def quickSort(arr,low,high): \n",
    "    if low < high: \n",
    "        pi = partition(arr,low,high) \n",
    "        quickSort(arr, low, pi-1) \n",
    "        quickSort(arr, pi+1, high) \n",
    "  \n",
    " \n",
    "n = len(random_50) \n",
    "quickSort(random_50,0,n-1) \n",
    "#print (\"Sorted array is:\") \n",
    "#for i in range(n): \n",
    " #   print (random_50[i]), "
   ]
  },
  {
   "cell_type": "code",
   "execution_count": 22,
   "metadata": {},
   "outputs": [
    {
     "name": "stdout",
     "output_type": "stream",
     "text": [
      "[0, 2, 4, 7, 8, 10, 11, 12, 13, 15, 16, 21, 23, 25, 26, 27, 30, 32, 35, 36, 38, 43, 49, 50, 51, 52, 54, 58, 59, 61, 62, 63, 67, 68, 69, 71, 73, 74, 75, 81, 82, 83, 85, 89, 92, 93, 94, 96, 97, 98]\n"
     ]
    }
   ],
   "source": [
    "def bubblesort(list):\n",
    "\n",
    "# Swap the elements to arrange in order\n",
    "    for iter_num in range(len(list)-1,0,-1): #scan through ever-shortening list\n",
    "        for idx in range(iter_num):     #for each item in list,\n",
    "            if list[idx]>list[idx+1]:   #check it against its neighbour\n",
    "                temp = list[idx]        #and swap if item on left is bigger\n",
    "                list[idx] = list[idx+1]\n",
    "                list[idx+1] = temp\n",
    "\n",
    "    return list\n",
    "\n",
    "print(bubblesort(random_50))"
   ]
  },
  {
   "cell_type": "code",
   "execution_count": 23,
   "metadata": {},
   "outputs": [
    {
     "name": "stdout",
     "output_type": "stream",
     "text": [
      "[0, 2, 4, 7, 8, 10, 11, 12, 13, 15, 16, 21, 23, 25, 26, 27, 30, 32, 35, 36, 38, 43, 49, 50, 51, 52, 54, 58, 59, 61, 62, 63, 67, 68, 69, 71, 73, 74, 75, 81, 82, 83, 85, 89, 92, 93, 94, 96, 97, 98]\n"
     ]
    }
   ],
   "source": [
    "def selec_sort(input_list):\n",
    "\n",
    "    for idx in range(len(input_list)):\n",
    "\n",
    "        min_idx = idx\n",
    "        for j in range( idx +1, len(input_list)):\n",
    "            if input_list[min_idx] > input_list[j]:\n",
    "                min_idx = j\n",
    "# Swap the minimum value with the compared value\n",
    "\n",
    "        input_list[idx], input_list[min_idx] = input_list[min_idx], input_list[idx]\n",
    "\n",
    "    return input_list\n",
    "\n",
    "print(selec_sort(random_50))"
   ]
  },
  {
   "cell_type": "code",
   "execution_count": 24,
   "metadata": {},
   "outputs": [
    {
     "name": "stdout",
     "output_type": "stream",
     "text": [
      "[11, 12, 22, 25, 34, 64, 90]\n",
      "Merge sort time:  0.0005474090576171875\n",
      "Quick sort time:  0.0004451274871826172\n",
      "Selecton sort time:  0.0003917217254638672\n",
      "Bubble sort time:  0.00021886825561523438\n"
     ]
    }
   ],
   "source": [
    "#for random_50 numbers\n",
    "from merge_sort import merge_sort #imported merge_sort because writing it in its cell did not run\n",
    "start = time.time()\n",
    "merge_sort(random_50)\n",
    "end = time.time()\n",
    "elapsed = end - start\n",
    "print(\"Merge sort time: \",elapsed)\n",
    "\n",
    "start = time.time()\n",
    "m = random_50\n",
    "m = quickSort(m, 0,n-1)\n",
    "end = time.time()\n",
    "elapsed = end - start\n",
    "print(\"Quick sort time: \",elapsed)\n",
    "\n",
    "start = time.time()\n",
    "m = random_50\n",
    "m = selec_sort(m)\n",
    "end = time.time()\n",
    "elapsed = end - start\n",
    "print(\"Selecton sort time: \",elapsed)\n",
    "\n",
    "start = time.time()\n",
    "m = random_50\n",
    "m = bubblesort(m)\n",
    "end = time.time()\n",
    "elapsed = end - start\n",
    "print(\"Bubble sort time: \",elapsed)"
   ]
  },
  {
   "cell_type": "code",
   "execution_count": 25,
   "metadata": {},
   "outputs": [
    {
     "name": "stdout",
     "output_type": "stream",
     "text": [
      "Merge sort time:  0.007359504699707031\n",
      "Quick sort time:  0.0006260871887207031\n",
      "Selection sort time:  0.046608924865722656\n",
      "Bubble sort time:  0.04862546920776367\n"
     ]
    }
   ],
   "source": [
    "#for random_1000 numbers\n",
    "start = time.time()\n",
    "m = random_1000\n",
    "m = merge_sort(m)\n",
    "end = time.time()\n",
    "elapsed = end - start\n",
    "print(\"Merge sort time: \", elapsed)\n",
    "\n",
    "start = time.time()\n",
    "m = random_1000\n",
    "m = quickSort(m, 0,n-1)\n",
    "end = time.time()\n",
    "elapsed = end - start\n",
    "print(\"Quick sort time: \",elapsed)\n",
    "\n",
    "start = time.time()\n",
    "m = random_1000\n",
    "m = selec_sort(m)\n",
    "end = time.time()\n",
    "elapsed = end - start\n",
    "print(\"Selection sort time: \",elapsed)\n",
    "\n",
    "start = time.time()\n",
    "m = random_1000\n",
    "m = bubblesort(m)\n",
    "end = time.time()\n",
    "elapsed = end - start\n",
    "print(\"Bubble sort time: \",elapsed)"
   ]
  },
  {
   "cell_type": "code",
   "execution_count": null,
   "metadata": {},
   "outputs": [],
   "source": []
  }
 ],
 "metadata": {
  "kernelspec": {
   "display_name": "Python 3",
   "language": "python",
   "name": "python3"
  },
  "language_info": {
   "codemirror_mode": {
    "name": "ipython",
    "version": 3
   },
   "file_extension": ".py",
   "mimetype": "text/x-python",
   "name": "python",
   "nbconvert_exporter": "python",
   "pygments_lexer": "ipython3",
   "version": "3.6.8"
  }
 },
 "nbformat": 4,
 "nbformat_minor": 2
}
